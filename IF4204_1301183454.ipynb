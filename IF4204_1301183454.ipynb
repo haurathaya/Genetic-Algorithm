{
 "metadata": {
  "language_info": {
   "codemirror_mode": {
    "name": "ipython",
    "version": 3
   },
   "file_extension": ".py",
   "mimetype": "text/x-python",
   "name": "python",
   "nbconvert_exporter": "python",
   "pygments_lexer": "ipython3",
   "version": "3.8.3-final"
  },
  "orig_nbformat": 2,
  "kernelspec": {
   "name": "python38232bit4a8b71824c5e415498cad32dada6597f",
   "display_name": "Python 3.8.2 32-bit"
  }
 },
 "nbformat": 4,
 "nbformat_minor": 2,
 "cells": [
  {
   "cell_type": "code",
   "execution_count": 132,
   "metadata": {},
   "outputs": [],
   "source": [
    "import math\n",
    "import random\n",
    "import copy"
   ]
  },
  {
   "cell_type": "code",
   "execution_count": 133,
   "metadata": {},
   "outputs": [],
   "source": [
    "#parameter yang digunakan\n",
    "\n",
    "pop_size = 75\n",
    "tour_count = 7\n",
    "generation = 1000\n",
    "pc = 0.65\n",
    "pm = 0.4"
   ]
  },
  {
   "cell_type": "code",
   "execution_count": 134,
   "metadata": {},
   "outputs": [],
   "source": [
    "#mendapatkan kromosom random dalam bentuk integer\n",
    "\n",
    "def getChromosome(chrom_count):\n",
    "    chrom = []\n",
    "    for i in range(chrom_count):\n",
    "        chrom.append(random.randint(0,9))\n",
    "    return chrom\n",
    "\n",
    "def getPopulation(pop_count):\n",
    "    pop = []\n",
    "    for i in range(pop_count):\n",
    "        pop.append(getChromosome(10))\n",
    "    return pop"
   ]
  },
  {
   "cell_type": "code",
   "execution_count": 135,
   "metadata": {},
   "outputs": [],
   "source": [
    "#Integer Encoding untuk merepresentasikan nilai Integer\n",
    "\n",
    "def encodingInteger(chrom):\n",
    "    x1 = -1 + ((2-(-1))/(9*(10**-1 + 10**-2 + 10**-3))) * ((chrom[0]*10**-1) + (chrom[1]*10**-2) + (chrom[2]*10**-3))\n",
    "    x2 = -1 + ((1-(-1))/(9*(10**-1 + 10**-2 + 10**-3))) * ((chrom[0]*10**-1) + (chrom[1]*10**-2) + (chrom[2]*10**-3))\n",
    "\n",
    "    return [x1, x2]"
   ]
  },
  {
   "cell_type": "code",
   "execution_count": 136,
   "metadata": {},
   "outputs": [],
   "source": [
    "#mendefinisikan fungsi minimasi\n",
    "\n",
    "def fungsi(x1,x2):\n",
    "    return (math.cos(x1)*math.sin(x2) - x1/((x2**2)+1))"
   ]
  },
  {
   "cell_type": "code",
   "execution_count": 137,
   "metadata": {},
   "outputs": [],
   "source": [
    "#menghitung nilai fitness dengan memanggil fungsi minimasi\n",
    "\n",
    "def countFitness(chrom):\n",
    "    x1,x2 = encodingInteger(chrom)\n",
    "    a = 0.001\n",
    "    fit = 1/(fungsi(x1,x2))+a\n",
    "    return fit\n",
    "\n",
    "def countAllFitness(pop, pop_count):\n",
    "    fitAll = []\n",
    "    for i in range(pop_count):\n",
    "        fitAll.append(countFitness(pop[i]))\n",
    "\n",
    "    return fitAll"
   ]
  },
  {
   "cell_type": "code",
   "execution_count": 138,
   "metadata": {},
   "outputs": [],
   "source": [
    "#mencari nilai elitisme\n",
    "\n",
    "def findElitism(fitAll):\n",
    "    return fitAll.index(max(fitAll))"
   ]
  },
  {
   "cell_type": "code",
   "execution_count": 139,
   "metadata": {},
   "outputs": [],
   "source": [
    "#parent selection dengan menggunakan tournament selection\n",
    "\n",
    "def tournamentSelection(pop, tour_count, pop_count):\n",
    "    best = []\n",
    "    for i in range(1, tour_count):\n",
    "        indv = pop[random.randint(0, pop_count-1)]\n",
    "        if (best == []) or (countFitness(indv) > countFitness(best)):\n",
    "            best = indv\n",
    "    return best"
   ]
  },
  {
   "cell_type": "code",
   "execution_count": 140,
   "metadata": {},
   "outputs": [],
   "source": [
    "#crossover dengan menggunakan single-point\n",
    "\n",
    "def crossover(parent1, parent2, pc):\n",
    "    ran = random.random()\n",
    "    if (ran <= pc):\n",
    "        point = random.randint(0,9)\n",
    "        for i in range(point):\n",
    "            parent1[i], parent2[i] = parent2[i], parent1[i]\n",
    "    return parent1, parent2"
   ]
  },
  {
   "cell_type": "code",
   "execution_count": 141,
   "metadata": {},
   "outputs": [],
   "source": [
    "#mutation dengan menggunakan tingkat 1-bit\n",
    "\n",
    "def mutation(parent1, parent2, pm):\n",
    "    ran = random.random()\n",
    "    if (ran <= pm):\n",
    "        parent1[random.randint(0,9)] = random.randint(0,9)\n",
    "        parent2[random.randint(0,9)] = random.randint(0,9)\n",
    "    return parent1, parent2"
   ]
  },
  {
   "cell_type": "code",
   "execution_count": 142,
   "metadata": {},
   "outputs": [
    {
     "output_type": "stream",
     "name": "stdout",
     "text": [
      "===================== GENETIC ALGORITHM =====================\nBest Chromosome: [0, 2, 3, 7, 1, 7, 2, 9, 8, 3]\nValue of X1, X2 :  [-0.9309309309309309, -0.953953953953954]\nBest Fitness : 2927.963530238291\n"
     ]
    }
   ],
   "source": [
    "#program utama dengan bentuk GA Generational Replacement\n",
    "\n",
    "population = getPopulation(pop_size)\n",
    "\n",
    "for i in range(generation):\n",
    "    fitness = countAllFitness(population, pop_size)\n",
    "    population__new = []\n",
    "\n",
    "    best = findElitism(fitness)\n",
    "    population__new.append(population[best])\n",
    "\n",
    "    j = 0\n",
    "    while (j < pop_size-2):\n",
    "        parent1 = tournamentSelection(population, tour_count, pop_size)\n",
    "        parent2 = tournamentSelection(population, tour_count, pop_size)\n",
    "        while (parent1 == parent2):\n",
    "            parent1 = tournamentSelection(population, tour_count, pop_size)\n",
    "        p1 = copy.deepcopy(parent1)\n",
    "        p2 = copy.deepcopy(parent2)\n",
    "        child = crossover(p1, p2, pc)\n",
    "        offspring = mutation(child[0], child[1], pm)\n",
    "        population__new += offspring\n",
    "        j += 2\n",
    "    population = population__new\n",
    "\n",
    "fitness = countAllFitness(population, pop_size)\n",
    "res = findElitism(fitness)\n",
    "\n",
    "print('===================== GENETIC ALGORITHM =====================')\n",
    "print('')\n",
    "print('Best Chromosome:', population[res])\n",
    "print('Value of X1, X2 : ', encodingInteger(population[res]))\n",
    "print('Best Fitness :', countFitness(population[res]))\n",
    "print('')\n",
    "print('========================== FINISHED =========================')"
   ]
  }
 ]
}